{
 "cells": [
  {
   "cell_type": "code",
   "execution_count": 5,
   "metadata": {},
   "outputs": [],
   "source": [
    "import numpy as np \n",
    "import random\n",
    "import matplotlib.pyplot as plt\n",
    "from matplotlib import colors\n",
    "import matplotlib.animation as animation\n",
    "\n",
    "# Constants\n",
    "GRID_SIZE = (20, 20)  # Grid size (100x100)\n",
    "MELANOPHORE = 1  # Black stripe cells (melanophores)\n",
    "XANTHOPHORE = 2  # Yellow interstripe cells (xanthophores)\n",
    "EMPTY = 0  # Empty cells\n",
    "STEPS = 100  # Number of simulation steps\n",
    "\n",
    "# Length scales for cellular interactions\n",
    "DMM = 50  # Average distance between melanophores\n",
    "DXX = 36  # Average distance between xanthophores\n",
    "DXM = 82  # Average distance between melanophores and xanthophores at stripe/interstripe boundaries\n",
    "\n",
    "# Morse potential parameters (example values)\n",
    "RMM = 1.0  # Repulsion strength for melanophores\n",
    "RXX = 1.0  # Repulsion strength for xanthophores\n",
    "RXM = 1.0  # Repulsion strength for melanophore and xanthophore\n",
    "AMM = 0.5  # Attraction strength for melanophores\n",
    "AXX = 0.5  # Attraction strength for xanthophores\n",
    "AXM = 0.5  # Attraction strength for melanophore and xanthophore\n",
    "\n",
    "# Initialize grid with empty cells\n",
    "grid = np.zeros(GRID_SIZE, dtype=int)\n",
    "\n",
    "def initialize_cells(grid):\n",
    "    # Top and bottom rows are melanophores with empty spaces between each cell\n",
    "    grid[0, ::2] = MELANOPHORE  # Set every other cell in the top row to melanophores\n",
    "    grid[GRID_SIZE[0] - 1, ::2] = MELANOPHORE  # Set every other cell in the bottom row to melanophores\n",
    "    \n",
    "    # Middle row is xanthophores\n",
    "    middle_row = GRID_SIZE[0] // 2\n",
    "    grid[middle_row, :] = XANTHOPHORE  # Set the middle row to xanthophores\n",
    "    \n",
    "    # Rows directly above and below the middle row are melanophores with gaps\n",
    "    grid[middle_row - 5, ::2] = MELANOPHORE  # Set every other cell in the row above middle row to melanophores\n",
    "    grid[middle_row + 5, ::2] = MELANOPHORE  # Set every other cell in the row below middle row to melanophores\n",
    "    \n",
    "    return grid"
   ]
  },
  {
   "cell_type": "code",
   "execution_count": 6,
   "metadata": {},
   "outputs": [
    {
     "data": {
      "text/plain": [
       "<matplotlib.image.AxesImage at 0x7fb4dffb8ca0>"
      ]
     },
     "execution_count": 6,
     "metadata": {},
     "output_type": "execute_result"
    },
    {
     "data": {
      "image/png": "[encoded data removed]",
      "text/plain": [
       "<Figure size 640x480 with 1 Axes>"
      ]
     },
     "metadata": {},
     "output_type": "display_data"
    }
   ],
   "source": [
    "# Function to visualize the grid\n",
    "def plot_grid(grid):\n",
    "    cmap = colors.ListedColormap(['white', 'black', 'yellow'])\n",
    "    return plt.imshow(grid, cmap=cmap)\n",
    "\n",
    "# Initialize grid with cells based on the new initialization function\n",
    "grid = initialize_cells(grid)  # Initialize cells\n",
    "\n",
    "plot_grid(grid)"
   ]
  },
  {
   "cell_type": "code",
   "execution_count": 8,
   "metadata": {},
   "outputs": [
    {
     "name": "stdout",
     "output_type": "stream",
     "text": [
      "/home/benthe/Documents/MMB/project/MMB-Assignment/zebrafish_stripe_formation.mp4\n"
     ]
    }
   ],
   "source": [
    "import os\n",
    "\n",
    "print(os.path.join(os.getcwd(), 'zebrafish_stripe_formation.mp4'))"
   ]
  }
 ],
 "metadata": {
  "kernelspec": {
   "display_name": "Python 3",
   "language": "python",
   "name": "python3"
  },
  "language_info": {
   "codemirror_mode": {
    "name": "ipython",
    "version": 3
   },
   "file_extension": ".py",
   "mimetype": "text/x-python",
   "name": "python",
   "nbconvert_exporter": "python",
   "pygments_lexer": "ipython3",
   "version": "3.9.16"
  }
 },
 "nbformat": 4,
 "nbformat_minor": 2
}
